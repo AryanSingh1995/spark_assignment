{
 "cells": [
  {
   "cell_type": "code",
   "execution_count": 21,
   "id": "de2add5d-0ff4-4ac9-9d85-406de0b114d8",
   "metadata": {},
   "outputs": [
    {
     "name": "stdout",
     "output_type": "stream",
     "text": [
      "Requirement already satisfied: faker in /opt/conda/lib/python3.11/site-packages (24.11.0)\n",
      "Requirement already satisfied: python-dateutil>=2.4 in /opt/conda/lib/python3.11/site-packages (from faker) (2.8.2)\n",
      "Requirement already satisfied: six>=1.5 in /opt/conda/lib/python3.11/site-packages (from python-dateutil>=2.4->faker) (1.16.0)\n",
      "Note: you may need to restart the kernel to use updated packages.\n"
     ]
    }
   ],
   "source": [
    "%pip install faker"
   ]
  },
  {
   "cell_type": "code",
   "execution_count": 22,
   "id": "f9f00480-2c40-4cf6-affe-e3adb74a8836",
   "metadata": {},
   "outputs": [],
   "source": [
    "from faker import Faker\n",
    "import pandas as pd\n",
    "import random\n",
    "from datetime import datetime, timedelta\n",
    "\n",
    "fake = Faker()\n",
    "\n",
    "# generate synthetic data for order details\n",
    "def generate_order_details(num_orders, num_customers):\n",
    "    order_details_data = {\n",
    "        \"OrderID\": list(range(1, num_orders + 1)),\n",
    "        \"CustomerID\": [fake.random_number(digits=6) for _ in range(num_orders)],\n",
    "        \"OrderDate\": [fake.date_between(start_date='-1y', end_date='today') for _ in range(num_orders)]\n",
    "    }\n",
    "    return pd.DataFrame(order_details_data)\n",
    "\n",
    "# generate synthetic data for order item details\n",
    "def generate_order_item_details(num_orders, num_products):\n",
    "    order_item_details_data = []\n",
    "    for order_id in range(1, num_orders + 1):\n",
    "        num_items = random.randint(1, 5)  # Random number of items per order\n",
    "        for _ in range(num_items):\n",
    "            order_item_details_data.append({\n",
    "                \"OrderID\": order_id,\n",
    "                \"ProductID\": fake.random_number(digits=6),\n",
    "                \"Quantity\": random.randint(1, 10),\n",
    "                \"UnitPrice\": round(random.uniform(10, 100), 2)\n",
    "            })\n",
    "    return pd.DataFrame(order_item_details_data)\n",
    "\n",
    "# Generate synthetic data for accounts\n",
    "def generate_accounts_data(num_accounts):\n",
    "    accounts_data = {\n",
    "        \"AccountNumber\": [fake.random_number(digits=8) for _ in range(num_accounts)],\n",
    "        \"AccountType\": [random.choice([\"Savings\", \"Checking\", \"Credit\"]) for _ in range(num_accounts)],\n",
    "        \"Balance\": [round(random.uniform(100, 10000), 2) for _ in range(num_accounts)]\n",
    "    }\n",
    "    return pd.DataFrame(accounts_data)\n",
    "\n",
    "# Generate synthetic data for transactions\n",
    "def generate_transactions_data(num_transactions, account_numbers):\n",
    "    transactions_data = {\n",
    "        \"TransactionID\": [fake.uuid4() for _ in range(num_transactions)],\n",
    "        \"AccountNumber\": [random.choice(account_numbers) for _ in range(num_transactions)],\n",
    "        \"Amount\": [round(random.uniform(-5000, 5000), 2) for _ in range(num_transactions)],\n",
    "        \"TransactionType\": [random.choice([\"Deposit\", \"Withdrawal\"]) for _ in range(num_transactions)]\n",
    "    }\n",
    "    \n",
    "    # Generate dates within the past year\n",
    "    end_date = datetime.now()\n",
    "    start_date = end_date - timedelta(days=365)\n",
    "    dates = [fake.date_time_between(start_date=start_date, end_date=end_date) for _ in range(num_transactions)]\n",
    "    transactions_data[\"Date\"] = dates\n",
    "    \n",
    "    return pd.DataFrame(transactions_data)\n",
    "\n",
    "# Generate synthetic data\n",
    "num_orders = 100000\n",
    "num_customers = 50000\n",
    "num_products = 200000\n",
    "num_accounts = 100000\n",
    "num_transactions = 500000\n",
    "\n",
    "order_details_df = generate_order_details(num_orders, num_customers)\n",
    "order_item_details_df = generate_order_item_details(num_orders, num_products)\n",
    "accounts_df = generate_accounts_data(num_accounts)\n",
    "transactions_df = generate_transactions_data(num_transactions, accounts_df[\"AccountNumber\"].unique())\n",
    "\n",
    "# Write data to CSV files\n",
    "order_details_df.to_csv(\"Dataset/orderdetails.csv\", index=False)\n",
    "order_item_details_df.to_csv(\"Dataset/orderitemdetails.csv\", index=False)\n",
    "accounts_df.to_csv(\"Dataset/accounts.csv\", index=False)\n",
    "transactions_df.to_csv(\"Dataset/transactions.csv\", index=False)"
   ]
  },
  {
   "cell_type": "code",
   "execution_count": 23,
   "id": "d8266f38-f77a-4a83-a8c0-c046a04606c9",
   "metadata": {},
   "outputs": [],
   "source": [
    "df1 = pd.read_csv('Dataset/accounts.csv')"
   ]
  },
  {
   "cell_type": "code",
   "execution_count": 24,
   "id": "24dc1568-6bb2-4e34-b32c-0c3f62b18ca4",
   "metadata": {},
   "outputs": [
    {
     "name": "stdout",
     "output_type": "stream",
     "text": [
      "<class 'pandas.core.frame.DataFrame'>\n",
      "RangeIndex: 100000 entries, 0 to 99999\n",
      "Data columns (total 3 columns):\n",
      " #   Column         Non-Null Count   Dtype  \n",
      "---  ------         --------------   -----  \n",
      " 0   AccountNumber  100000 non-null  int64  \n",
      " 1   AccountType    100000 non-null  object \n",
      " 2   Balance        100000 non-null  float64\n",
      "dtypes: float64(1), int64(1), object(1)\n",
      "memory usage: 2.3+ MB\n"
     ]
    }
   ],
   "source": [
    "df1.info()"
   ]
  },
  {
   "cell_type": "code",
   "execution_count": null,
   "id": "d2274f74-a538-4cea-9265-f80e97d24af5",
   "metadata": {},
   "outputs": [],
   "source": []
  }
 ],
 "metadata": {
  "kernelspec": {
   "display_name": "Python 3 (ipykernel)",
   "language": "python",
   "name": "python3"
  },
  "language_info": {
   "codemirror_mode": {
    "name": "ipython",
    "version": 3
   },
   "file_extension": ".py",
   "mimetype": "text/x-python",
   "name": "python",
   "nbconvert_exporter": "python",
   "pygments_lexer": "ipython3",
   "version": "3.11.6"
  }
 },
 "nbformat": 4,
 "nbformat_minor": 5
}
